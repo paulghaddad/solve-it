{
 "cells": [
  {
   "cell_type": "code",
   "execution_count": 2,
   "metadata": {},
   "outputs": [
    {
     "name": "stdout",
     "output_type": "stream",
     "text": [
      "Before, x = 100\n",
      "After, x = 101\n"
     ]
    }
   ],
   "source": [
    "# What is an UnboundLocalError?  Write a function\n",
    "# that causes one to occur\n",
    "\n",
    "x = 100   # global variable!\n",
    "\n",
    "def add_to_x():\n",
    "    global x\n",
    "    x = x + 1\n",
    "    \n",
    "    \n",
    "print(f\"Before, x = {x}\")\n",
    "add_to_x()\n",
    "print(f\"After, x = {x}\")"
   ]
  },
  {
   "cell_type": "code",
   "execution_count": null,
   "metadata": {},
   "outputs": [],
   "source": []
  }
 ],
 "metadata": {
  "kernelspec": {
   "display_name": "Python 3",
   "language": "python",
   "name": "python3"
  },
  "language_info": {
   "codemirror_mode": {
    "name": "ipython",
    "version": 3
   },
   "file_extension": ".py",
   "mimetype": "text/x-python",
   "name": "python",
   "nbconvert_exporter": "python",
   "pygments_lexer": "ipython3",
   "version": "3.7.5"
  }
 },
 "nbformat": 4,
 "nbformat_minor": 2
}
