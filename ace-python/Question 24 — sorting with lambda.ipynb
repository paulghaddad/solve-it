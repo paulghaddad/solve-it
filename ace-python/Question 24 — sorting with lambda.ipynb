{
 "cells": [
  {
   "cell_type": "code",
   "execution_count": 1,
   "metadata": {},
   "outputs": [
    {
     "name": "stdout",
     "output_type": "stream",
     "text": [
      "Enter a sentence: this is a bunch of words that need to be sorted pronto\n"
     ]
    }
   ],
   "source": [
    "# Ask the user to enter a sentence. Sort the words in the\n",
    "# sentence backwards -- that is, checking the final letter,\n",
    "# the second-to-last letter, etc., until the first letter.\n",
    "\n",
    "# Use \"lambda\" to achieve this.\n",
    "\n",
    "words = input(\"Enter a sentence: \").split()"
   ]
  },
  {
   "cell_type": "code",
   "execution_count": 2,
   "metadata": {},
   "outputs": [
    {
     "data": {
      "text/plain": [
       "['this',\n",
       " 'is',\n",
       " 'a',\n",
       " 'bunch',\n",
       " 'of',\n",
       " 'words',\n",
       " 'that',\n",
       " 'need',\n",
       " 'to',\n",
       " 'be',\n",
       " 'sorted',\n",
       " 'pronto']"
      ]
     },
     "execution_count": 2,
     "metadata": {},
     "output_type": "execute_result"
    }
   ],
   "source": [
    "words"
   ]
  },
  {
   "cell_type": "code",
   "execution_count": 3,
   "metadata": {},
   "outputs": [
    {
     "data": {
      "text/plain": [
       "['a',\n",
       " 'be',\n",
       " 'bunch',\n",
       " 'is',\n",
       " 'need',\n",
       " 'of',\n",
       " 'pronto',\n",
       " 'sorted',\n",
       " 'that',\n",
       " 'this',\n",
       " 'to',\n",
       " 'words']"
      ]
     },
     "execution_count": 3,
     "metadata": {},
     "output_type": "execute_result"
    }
   ],
   "source": [
    "sorted(words)"
   ]
  },
  {
   "cell_type": "code",
   "execution_count": 4,
   "metadata": {},
   "outputs": [
    {
     "data": {
      "text/plain": [
       "['words',\n",
       " 'to',\n",
       " 'this',\n",
       " 'that',\n",
       " 'sorted',\n",
       " 'pronto',\n",
       " 'of',\n",
       " 'need',\n",
       " 'is',\n",
       " 'bunch',\n",
       " 'be',\n",
       " 'a']"
      ]
     },
     "execution_count": 4,
     "metadata": {},
     "output_type": "execute_result"
    }
   ],
   "source": [
    "sorted(words, reverse=True)"
   ]
  },
  {
   "cell_type": "code",
   "execution_count": 5,
   "metadata": {},
   "outputs": [
    {
     "data": {
      "text/plain": [
       "['a',\n",
       " 'be',\n",
       " 'bunch',\n",
       " 'is',\n",
       " 'need',\n",
       " 'of',\n",
       " 'pronto',\n",
       " 'sorted',\n",
       " 'that',\n",
       " 'this',\n",
       " 'to',\n",
       " 'words']"
      ]
     },
     "execution_count": 5,
     "metadata": {},
     "output_type": "execute_result"
    }
   ],
   "source": [
    "sorted(words)"
   ]
  },
  {
   "cell_type": "code",
   "execution_count": 6,
   "metadata": {},
   "outputs": [
    {
     "data": {
      "text/plain": [
       "['a',\n",
       " 'need',\n",
       " 'sorted',\n",
       " 'be',\n",
       " 'of',\n",
       " 'bunch',\n",
       " 'to',\n",
       " 'pronto',\n",
       " 'words',\n",
       " 'is',\n",
       " 'this',\n",
       " 'that']"
      ]
     },
     "execution_count": 6,
     "metadata": {},
     "output_type": "execute_result"
    }
   ],
   "source": [
    "# a need sorted be of\n",
    "\n",
    "def by_backwards_word(one_word):\n",
    "    return one_word[::-1]\n",
    "\n",
    "sorted(words, key=by_backwards_word)"
   ]
  },
  {
   "cell_type": "code",
   "execution_count": 9,
   "metadata": {},
   "outputs": [
    {
     "data": {
      "text/plain": [
       "['a',\n",
       " 'need',\n",
       " 'sorted',\n",
       " 'be',\n",
       " 'of',\n",
       " 'bunch',\n",
       " 'to',\n",
       " 'pronto',\n",
       " 'words',\n",
       " 'is',\n",
       " 'this',\n",
       " 'that']"
      ]
     },
     "execution_count": 9,
     "metadata": {},
     "output_type": "execute_result"
    }
   ],
   "source": [
    "sorted(words, key=lambda one_word: one_word[::-1])"
   ]
  },
  {
   "cell_type": "code",
   "execution_count": null,
   "metadata": {},
   "outputs": [],
   "source": []
  }
 ],
 "metadata": {
  "kernelspec": {
   "display_name": "Python 3",
   "language": "python",
   "name": "python3"
  },
  "language_info": {
   "codemirror_mode": {
    "name": "ipython",
    "version": 3
   },
   "file_extension": ".py",
   "mimetype": "text/x-python",
   "name": "python",
   "nbconvert_exporter": "python",
   "pygments_lexer": "ipython3",
   "version": "3.7.5"
  }
 },
 "nbformat": 4,
 "nbformat_minor": 2
}
