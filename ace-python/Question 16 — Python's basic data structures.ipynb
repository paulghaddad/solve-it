{
 "cells": [
  {
   "cell_type": "code",
   "execution_count": null,
   "metadata": {},
   "outputs": [],
   "source": [
    "# What are Python's basic data structures, and how are they used?\n",
    "\n",
    "# simple\n",
    "# - None\n",
    "# - bool\n",
    "# - int, float\n",
    "\n",
    "# sequences -- all iterable, containers, can use \"in\"\n",
    "#    all subscriptable [] -- with index or slice\n",
    "#    searching is O(n)\n",
    "# - strings -- contains characters, is immutable\n",
    "# - lists   -- contain anything, mutable\n",
    "# - tuples  -- contain anything, immutable\n",
    "\n",
    "# mapping\n",
    "# searching is O(1)\n",
    "# - dicts -- hash tables , name-value pairs, key-value pairs\n",
    "# - sets -- basically the keys of a dictionary\n"
   ]
  }
 ],
 "metadata": {
  "kernelspec": {
   "display_name": "Python 3",
   "language": "python",
   "name": "python3"
  },
  "language_info": {
   "codemirror_mode": {
    "name": "ipython",
    "version": 3
   },
   "file_extension": ".py",
   "mimetype": "text/x-python",
   "name": "python",
   "nbconvert_exporter": "python",
   "pygments_lexer": "ipython3",
   "version": "3.7.5"
  }
 },
 "nbformat": 4,
 "nbformat_minor": 2
}
