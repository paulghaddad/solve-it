{
 "cells": [
  {
   "cell_type": "code",
   "execution_count": 14,
   "metadata": {},
   "outputs": [
    {
     "name": "stdout",
     "output_type": "stream",
     "text": [
      "Hello, world\n"
     ]
    }
   ],
   "source": [
    "# write a decorator that ensures all of the arguments\n",
    "# passed to a function will be strings\n",
    "\n",
    "# only_strings will be:\n",
    "# a function\n",
    "# that takes a function argument\n",
    "# and returns a function as a result\n",
    "\n",
    "def only_string_args(func):\n",
    "    def wrapper(*args, **kwargs):\n",
    "        return func(*[one_arg\n",
    "                      for one_arg in args\n",
    "                     if isinstance(one_arg, str)], **kwargs)\n",
    "    return wrapper\n",
    "\n",
    "\n",
    "@only_string_args\n",
    "def hello(name):\n",
    "    return f'Hello, {name}'\n",
    "\n",
    "@only_string_args\n",
    "def goodbye(name):\n",
    "    return f'Goodbye, {name}'\n",
    "\n",
    "@only_string_args\n",
    "def word_lengths(*words):\n",
    "    return {one_word : len(one_word)\n",
    "           for one_word in words}\n",
    "\n",
    "print(hello('world'))"
   ]
  },
  {
   "cell_type": "code",
   "execution_count": 15,
   "metadata": {},
   "outputs": [
    {
     "name": "stdout",
     "output_type": "stream",
     "text": [
      "Goodbye, world\n"
     ]
    }
   ],
   "source": [
    "print(goodbye('world'))"
   ]
  },
  {
   "cell_type": "code",
   "execution_count": 17,
   "metadata": {},
   "outputs": [
    {
     "name": "stdout",
     "output_type": "stream",
     "text": [
      "Hello, abc\n"
     ]
    }
   ],
   "source": [
    "print(hello(12345, 'abc'))"
   ]
  },
  {
   "cell_type": "code",
   "execution_count": 18,
   "metadata": {},
   "outputs": [
    {
     "data": {
      "text/plain": [
       "{'a': 1, 'bcd': 3, 'efgh': 4}"
      ]
     },
     "execution_count": 18,
     "metadata": {},
     "output_type": "execute_result"
    }
   ],
   "source": [
    "word_lengths('a', 'bcd', 'efgh', 5)"
   ]
  },
  {
   "cell_type": "code",
   "execution_count": 19,
   "metadata": {},
   "outputs": [
    {
     "name": "stdout",
     "output_type": "stream",
     "text": [
      "Hello, world\n"
     ]
    }
   ],
   "source": [
    "\n",
    "def only_typed_args(the_type):\n",
    "    def middle(func):\n",
    "        def wrapper(*args, **kwargs):\n",
    "            return func(*[one_arg\n",
    "                          for one_arg in args\n",
    "                         if isinstance(one_arg, the_type)], **kwargs)\n",
    "        return wrapper\n",
    "    return middle\n",
    "\n",
    "\n",
    "@only_typed_args(str)\n",
    "def hello(name):\n",
    "    return f'Hello, {name}'\n",
    "\n",
    "@only_typed_args(str)\n",
    "def goodbye(name):\n",
    "    return f'Goodbye, {name}'\n",
    "\n",
    "@only_typed_args(str)\n",
    "def word_lengths(*words):\n",
    "    return {one_word : len(one_word)\n",
    "           for one_word in words}\n",
    "\n",
    "@only_typed_args(int)\n",
    "def div(a, b):\n",
    "    return a / b\n",
    "\n",
    "print(hello('world'))"
   ]
  },
  {
   "cell_type": "code",
   "execution_count": 20,
   "metadata": {},
   "outputs": [
    {
     "data": {
      "text/plain": [
       "5.0"
      ]
     },
     "execution_count": 20,
     "metadata": {},
     "output_type": "execute_result"
    }
   ],
   "source": [
    "div(10, 'abc', 2)"
   ]
  },
  {
   "cell_type": "code",
   "execution_count": null,
   "metadata": {},
   "outputs": [],
   "source": []
  }
 ],
 "metadata": {
  "kernelspec": {
   "display_name": "Python 3",
   "language": "python",
   "name": "python3"
  },
  "language_info": {
   "codemirror_mode": {
    "name": "ipython",
    "version": 3
   },
   "file_extension": ".py",
   "mimetype": "text/x-python",
   "name": "python",
   "nbconvert_exporter": "python",
   "pygments_lexer": "ipython3",
   "version": "3.7.5"
  }
 },
 "nbformat": 4,
 "nbformat_minor": 2
}
