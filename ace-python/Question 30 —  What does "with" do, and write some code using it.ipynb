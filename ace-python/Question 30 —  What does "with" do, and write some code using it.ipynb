{
 "cells": [
  {
   "cell_type": "code",
   "execution_count": 1,
   "metadata": {},
   "outputs": [],
   "source": [
    "# what does the \"with\" statement do.  \n",
    "# write some code that takes advantage of the \"with\" statement\n",
    "\n",
    "with open('myfile.txt', 'w') as f:\n",
    "    f.write('abcd\\n')\n",
    "    f.write('efgh\\n')\n",
    "    # automatically flush the buffer + close the file"
   ]
  },
  {
   "cell_type": "code",
   "execution_count": 2,
   "metadata": {},
   "outputs": [
    {
     "name": "stdout",
     "output_type": "stream",
     "text": [
      "abcd\r\n",
      "efgh\r\n"
     ]
    }
   ],
   "source": [
    "%cat myfile.txt"
   ]
  },
  {
   "cell_type": "code",
   "execution_count": 3,
   "metadata": {},
   "outputs": [
    {
     "data": {
      "text/plain": [
       "True"
      ]
     },
     "execution_count": 3,
     "metadata": {},
     "output_type": "execute_result"
    }
   ],
   "source": [
    "f.closed"
   ]
  },
  {
   "cell_type": "code",
   "execution_count": 4,
   "metadata": {},
   "outputs": [],
   "source": [
    "# context manager protocol means:\n",
    "# - object implements __enter__\n",
    "# - object implements __exit__\n",
    "\n",
    "with open('myfile.txt', 'w') as f:\n",
    "    # f.__enter__()\n",
    "    f.write('abcd\\n')\n",
    "    f.write('efgh\\n')\n",
    "    # f.__exit__()"
   ]
  },
  {
   "cell_type": "code",
   "execution_count": 12,
   "metadata": {},
   "outputs": [],
   "source": [
    "import sys\n",
    "\n",
    "class Logfile():\n",
    "    def __init__(self, filename):\n",
    "        self.filename = filename\n",
    "        \n",
    "    def __enter__(self):\n",
    "        print(\"Now in __enter__!\")\n",
    "\n",
    "        self.old_stdout = sys.stdout\n",
    "        sys.stdout = open(self.filename, 'a')\n",
    "\n",
    "        return self\n",
    "    \n",
    "    def __exit__(self, *args):\n",
    "        print(\"Now in __exit__!\")\n",
    "        sys.stdout = self.old_stdout\n"
   ]
  },
  {
   "cell_type": "code",
   "execution_count": 13,
   "metadata": {},
   "outputs": [
    {
     "name": "stdout",
     "output_type": "stream",
     "text": [
      "Now in __enter__!\n"
     ]
    }
   ],
   "source": [
    "with Logfile('mylog.txt') as lf:\n",
    "    print(\"Hello\")"
   ]
  },
  {
   "cell_type": "code",
   "execution_count": 14,
   "metadata": {},
   "outputs": [
    {
     "name": "stdout",
     "output_type": "stream",
     "text": [
      "-rw-r--r-- 1 reuven 46 Dec 22 13:58 mylog.txt\r\n"
     ]
    }
   ],
   "source": [
    "%ls -l mylog.txt"
   ]
  },
  {
   "cell_type": "code",
   "execution_count": 15,
   "metadata": {},
   "outputs": [
    {
     "name": "stdout",
     "output_type": "stream",
     "text": [
      "Hello\r\n",
      "Now in __exit__!\r\n",
      "Hello\r\n",
      "Now in __exit__!\r\n"
     ]
    }
   ],
   "source": [
    "%cat mylog.txt"
   ]
  },
  {
   "cell_type": "code",
   "execution_count": 23,
   "metadata": {},
   "outputs": [],
   "source": [
    "from contextlib import contextmanager\n",
    "\n",
    "@contextmanager\n",
    "def temp_reset_stdout(filename):\n",
    "    print(\"In __enter__ (2)\")\n",
    "    old_stdout = sys.stdout\n",
    "    sys.stdout = open(filename, 'w')\n",
    "    \n",
    "    yield\n",
    "    \n",
    "    print(\"In __exit__ (2)\")\n",
    "    sys.stdout = old_stdout\n",
    "    "
   ]
  },
  {
   "cell_type": "code",
   "execution_count": 24,
   "metadata": {},
   "outputs": [
    {
     "name": "stdout",
     "output_type": "stream",
     "text": [
      "In __enter__ (2)\n"
     ]
    }
   ],
   "source": [
    "with temp_reset_stdout('mylog.txt') as f:\n",
    "    print(\"Hello\")"
   ]
  },
  {
   "cell_type": "code",
   "execution_count": 25,
   "metadata": {},
   "outputs": [
    {
     "name": "stdout",
     "output_type": "stream",
     "text": [
      "Hello\r\n",
      "In __exit__ (2)\r\n"
     ]
    }
   ],
   "source": [
    "%cat mylog.txt"
   ]
  },
  {
   "cell_type": "code",
   "execution_count": null,
   "metadata": {},
   "outputs": [],
   "source": []
  }
 ],
 "metadata": {
  "kernelspec": {
   "display_name": "Python 3",
   "language": "python",
   "name": "python3"
  },
  "language_info": {
   "codemirror_mode": {
    "name": "ipython",
    "version": 3
   },
   "file_extension": ".py",
   "mimetype": "text/x-python",
   "name": "python",
   "nbconvert_exporter": "python",
   "pygments_lexer": "ipython3",
   "version": "3.7.5"
  }
 },
 "nbformat": 4,
 "nbformat_minor": 2
}
