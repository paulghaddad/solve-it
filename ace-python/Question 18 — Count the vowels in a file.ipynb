{
 "cells": [
  {
   "cell_type": "code",
   "execution_count": 1,
   "metadata": {},
   "outputs": [
    {
     "data": {
      "text/plain": [
       "1678"
      ]
     },
     "execution_count": 1,
     "metadata": {},
     "output_type": "execute_result"
    }
   ],
   "source": [
    "# Count vowels in a file, given a filename \n",
    "\n",
    "def vowel_count(filename):\n",
    "    f = open(filename, 'r')\n",
    "    text = f.read()\n",
    "    \n",
    "    count = 0\n",
    "    for one_character in text:\n",
    "        if one_character in 'aeiouAEIOU':\n",
    "            count += 1\n",
    "    return count\n",
    "\n",
    "vowel_count('/etc/passwd')"
   ]
  },
  {
   "cell_type": "code",
   "execution_count": 2,
   "metadata": {},
   "outputs": [],
   "source": [
    "with open('vowel_test.txt', 'w') as outfile:\n",
    "    outfile.write('abcde\\n')\n",
    "    outfile.write('ABCDE\\n')"
   ]
  },
  {
   "cell_type": "code",
   "execution_count": 3,
   "metadata": {},
   "outputs": [
    {
     "name": "stdout",
     "output_type": "stream",
     "text": [
      "abcde\r\n",
      "ABCDE\r\n"
     ]
    }
   ],
   "source": [
    "%cat vowel_test.txt"
   ]
  },
  {
   "cell_type": "code",
   "execution_count": 5,
   "metadata": {},
   "outputs": [
    {
     "data": {
      "text/plain": [
       "4"
      ]
     },
     "execution_count": 5,
     "metadata": {},
     "output_type": "execute_result"
    }
   ],
   "source": [
    "vowel_count('vowel_test.txt')"
   ]
  },
  {
   "cell_type": "code",
   "execution_count": 6,
   "metadata": {},
   "outputs": [
    {
     "data": {
      "text/plain": [
       "1678"
      ]
     },
     "execution_count": 6,
     "metadata": {},
     "output_type": "execute_result"
    }
   ],
   "source": [
    "# Count vowels in a file, given a filename \n",
    "\n",
    "def vowel_count(filename):\n",
    "    count = 0\n",
    "\n",
    "    f = open(filename, 'r')\n",
    "\n",
    "    for one_line in f:\n",
    "        for one_character in one_line:\n",
    "            if one_character in 'aeiouAEIOU':\n",
    "                count += 1\n",
    "\n",
    "    return count\n",
    "\n",
    "vowel_count('/etc/passwd')"
   ]
  },
  {
   "cell_type": "code",
   "execution_count": 8,
   "metadata": {},
   "outputs": [
    {
     "data": {
      "text/plain": [
       "4"
      ]
     },
     "execution_count": 8,
     "metadata": {},
     "output_type": "execute_result"
    }
   ],
   "source": [
    "vowel_count('vowel_test.txt')"
   ]
  },
  {
   "cell_type": "code",
   "execution_count": 9,
   "metadata": {},
   "outputs": [
    {
     "data": {
      "text/plain": [
       "1678"
      ]
     },
     "execution_count": 9,
     "metadata": {},
     "output_type": "execute_result"
    }
   ],
   "source": [
    "# Count vowels in a file, given a filename \n",
    "\n",
    "def vowel_count(filename):\n",
    "    count = 0\n",
    "\n",
    "    for one_line in open(filename, 'r'):\n",
    "        for one_character in one_line:\n",
    "            if one_character in 'aeiouAEIOU':\n",
    "                count += 1\n",
    "\n",
    "    return count\n",
    "\n",
    "vowel_count('/etc/passwd')"
   ]
  },
  {
   "cell_type": "code",
   "execution_count": 13,
   "metadata": {},
   "outputs": [
    {
     "name": "stdout",
     "output_type": "stream",
     "text": [
      "No such file /etc/pasasdfafaswd\n"
     ]
    },
    {
     "data": {
      "text/plain": [
       "0"
      ]
     },
     "execution_count": 13,
     "metadata": {},
     "output_type": "execute_result"
    }
   ],
   "source": [
    "# Count vowels in a file, given a filename \n",
    "\n",
    "def vowel_count(filename):\n",
    "    count = 0\n",
    "\n",
    "    try:\n",
    "        for one_line in open(filename, 'r'):\n",
    "            for one_character in one_line:\n",
    "                if one_character in 'aeiouAEIOU':\n",
    "                    count += 1\n",
    "    except FileNotFoundError as e:\n",
    "        print(f\"No such file {filename}\")\n",
    "    except IsADirectoryError as e:\n",
    "        print(f\"{filename} is a directory — use files!\")\n",
    "\n",
    "    return count\n",
    "\n",
    "vowel_count('/etc/pasasdfafaswd')"
   ]
  },
  {
   "cell_type": "code",
   "execution_count": 14,
   "metadata": {},
   "outputs": [
    {
     "name": "stdout",
     "output_type": "stream",
     "text": [
      "/etc is a directory — use files!\n"
     ]
    },
    {
     "data": {
      "text/plain": [
       "0"
      ]
     },
     "execution_count": 14,
     "metadata": {},
     "output_type": "execute_result"
    }
   ],
   "source": [
    "vowel_count('/etc')"
   ]
  },
  {
   "cell_type": "code",
   "execution_count": null,
   "metadata": {},
   "outputs": [],
   "source": []
  }
 ],
 "metadata": {
  "kernelspec": {
   "display_name": "Python 3",
   "language": "python",
   "name": "python3"
  },
  "language_info": {
   "codemirror_mode": {
    "name": "ipython",
    "version": 3
   },
   "file_extension": ".py",
   "mimetype": "text/x-python",
   "name": "python",
   "nbconvert_exporter": "python",
   "pygments_lexer": "ipython3",
   "version": "3.7.5"
  }
 },
 "nbformat": 4,
 "nbformat_minor": 2
}
