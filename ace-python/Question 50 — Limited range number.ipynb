{
 "cells": [
  {
   "cell_type": "code",
   "execution_count": 6,
   "metadata": {},
   "outputs": [
    {
     "name": "stdout",
     "output_type": "stream",
     "text": [
      "In Speed.__init__\n",
      "In Speed.__set__\n",
      "In Speed.__get__\n",
      "50\n",
      "In Speed.__set__\n"
     ]
    },
    {
     "ename": "SpeedTooHighError",
     "evalue": "Too fast!",
     "output_type": "error",
     "traceback": [
      "\u001b[0;31m---------------------------------------------------------------------------\u001b[0m",
      "\u001b[0;31mSpeedTooHighError\u001b[0m                         Traceback (most recent call last)",
      "\u001b[0;32m<ipython-input-6-7b768b5a833f>\u001b[0m in \u001b[0;36m<module>\u001b[0;34m\u001b[0m\n\u001b[1;32m     38\u001b[0m \u001b[0mc\u001b[0m\u001b[0;34m.\u001b[0m\u001b[0mspeed\u001b[0m \u001b[0;34m=\u001b[0m \u001b[0;36m50\u001b[0m   \u001b[0;31m# car's speed is now 50 km/h\u001b[0m\u001b[0;34m\u001b[0m\u001b[0;34m\u001b[0m\u001b[0m\n\u001b[1;32m     39\u001b[0m \u001b[0mprint\u001b[0m\u001b[0;34m(\u001b[0m\u001b[0mc\u001b[0m\u001b[0;34m.\u001b[0m\u001b[0mspeed\u001b[0m\u001b[0;34m)\u001b[0m  \u001b[0;31m# should see it's 50\u001b[0m\u001b[0;34m\u001b[0m\u001b[0;34m\u001b[0m\u001b[0m\n\u001b[0;32m---> 40\u001b[0;31m \u001b[0mc\u001b[0m\u001b[0;34m.\u001b[0m\u001b[0mspeed\u001b[0m \u001b[0;34m=\u001b[0m \u001b[0;36m200\u001b[0m   \u001b[0;31m# no -- you cannot go that fast!\u001b[0m\u001b[0;34m\u001b[0m\u001b[0;34m\u001b[0m\u001b[0m\n\u001b[0m\u001b[1;32m     41\u001b[0m \u001b[0mprint\u001b[0m\u001b[0;34m(\u001b[0m\u001b[0mc\u001b[0m\u001b[0;34m.\u001b[0m\u001b[0mspeed\u001b[0m\u001b[0;34m)\u001b[0m\u001b[0;34m\u001b[0m\u001b[0;34m\u001b[0m\u001b[0m\n\u001b[1;32m     42\u001b[0m \u001b[0;34m\u001b[0m\u001b[0m\n",
      "\u001b[0;32m<ipython-input-6-7b768b5a833f>\u001b[0m in \u001b[0;36m__set__\u001b[0;34m(self, obj, newvalue)\u001b[0m\n\u001b[1;32m     22\u001b[0m         \u001b[0mprint\u001b[0m\u001b[0;34m(\u001b[0m\u001b[0;34m\"In Speed.__set__\"\u001b[0m\u001b[0;34m)\u001b[0m\u001b[0;34m\u001b[0m\u001b[0;34m\u001b[0m\u001b[0m\n\u001b[1;32m     23\u001b[0m         \u001b[0;32mif\u001b[0m \u001b[0mnewvalue\u001b[0m \u001b[0;34m>\u001b[0m \u001b[0mSpeed\u001b[0m\u001b[0;34m.\u001b[0m\u001b[0mMAX_SPEED\u001b[0m\u001b[0;34m:\u001b[0m\u001b[0;34m\u001b[0m\u001b[0;34m\u001b[0m\u001b[0m\n\u001b[0;32m---> 24\u001b[0;31m             \u001b[0;32mraise\u001b[0m \u001b[0mSpeedTooHighError\u001b[0m\u001b[0;34m(\u001b[0m\u001b[0;34m\"Too fast!\"\u001b[0m\u001b[0;34m)\u001b[0m\u001b[0;34m\u001b[0m\u001b[0;34m\u001b[0m\u001b[0m\n\u001b[0m\u001b[1;32m     25\u001b[0m         \u001b[0;32mif\u001b[0m \u001b[0mnewvalue\u001b[0m \u001b[0;34m<\u001b[0m \u001b[0mSpeed\u001b[0m\u001b[0;34m.\u001b[0m\u001b[0mMIN_SPEED\u001b[0m\u001b[0;34m:\u001b[0m\u001b[0;34m\u001b[0m\u001b[0;34m\u001b[0m\u001b[0m\n\u001b[1;32m     26\u001b[0m             \u001b[0;32mraise\u001b[0m \u001b[0mSpeedTooLowError\u001b[0m\u001b[0;34m(\u001b[0m\u001b[0;34m\"Too slow!\"\u001b[0m\u001b[0;34m)\u001b[0m\u001b[0;34m\u001b[0m\u001b[0;34m\u001b[0m\u001b[0m\n",
      "\u001b[0;31mSpeedTooHighError\u001b[0m: Too fast!"
     ]
    }
   ],
   "source": [
    "from collections import defaultdict\n",
    "\n",
    "class SpeedTooHighError(Exception):\n",
    "    pass\n",
    "\n",
    "class SpeedTooLowError(Exception):\n",
    "    pass\n",
    "\n",
    "class Speed():\n",
    "    MIN_SPEED = 0\n",
    "    MAX_SPEED = 100\n",
    "    \n",
    "    def __init__(self):\n",
    "        self._speed = defaultdict(int)\n",
    "        print(\"In Speed.__init__\")\n",
    "        \n",
    "    def __get__(self, obj, objtype=None):\n",
    "        print(\"In Speed.__get__\")\n",
    "        return self._speed[obj]\n",
    "    \n",
    "    def __set__(self, obj, newvalue):\n",
    "        print(\"In Speed.__set__\")\n",
    "        if newvalue > Speed.MAX_SPEED:\n",
    "            raise SpeedTooHighError(\"Too fast!\")\n",
    "        if newvalue < Speed.MIN_SPEED:\n",
    "            raise SpeedTooLowError(\"Too slow!\")\n",
    "            \n",
    "        self._speed[obj] = newvalue\n",
    "\n",
    "\n",
    "class Car():\n",
    "    speed = Speed()  # implementing the descriptor protocol\n",
    "    \n",
    "    def __init__(self, name):\n",
    "        self.name = name\n",
    "\n",
    "c = Car('Kia Forte')\n",
    "c.speed = 50   # car's speed is now 50 km/h\n",
    "print(c.speed)  # should see it's 50\n",
    "c.speed = 200   # no -- you cannot go that fast!\n",
    "print(c.speed)\n",
    "\n",
    "# trying to set the speed <0 or >100 should result in an error"
   ]
  },
  {
   "cell_type": "code",
   "execution_count": 7,
   "metadata": {},
   "outputs": [
    {
     "name": "stdout",
     "output_type": "stream",
     "text": [
      "In Speed.__set__\n",
      "In Speed.__get__\n",
      "0\n"
     ]
    }
   ],
   "source": [
    "c1 = Car(\"Kia\")\n",
    "c2 = Car(\"Toyota\")\n",
    "\n",
    "c1.speed = 50\n",
    "print(c2.speed)"
   ]
  },
  {
   "cell_type": "code",
   "execution_count": 5,
   "metadata": {},
   "outputs": [
    {
     "name": "stdout",
     "output_type": "stream",
     "text": [
      "In Speed.__set__\n",
      "In Speed.__get__\n",
      "30\n"
     ]
    }
   ],
   "source": [
    "c2.speed = 30\n",
    "print(c1.speed)"
   ]
  },
  {
   "cell_type": "code",
   "execution_count": null,
   "metadata": {},
   "outputs": [],
   "source": []
  }
 ],
 "metadata": {
  "kernelspec": {
   "display_name": "Python 3",
   "language": "python",
   "name": "python3"
  },
  "language_info": {
   "codemirror_mode": {
    "name": "ipython",
    "version": 3
   },
   "file_extension": ".py",
   "mimetype": "text/x-python",
   "name": "python",
   "nbconvert_exporter": "python",
   "pygments_lexer": "ipython3",
   "version": "3.7.5"
  }
 },
 "nbformat": 4,
 "nbformat_minor": 2
}
