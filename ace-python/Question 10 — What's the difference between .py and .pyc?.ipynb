{
 "cells": [
  {
   "cell_type": "code",
   "execution_count": 1,
   "metadata": {},
   "outputs": [],
   "source": [
    "# What's the difference between .py and .pyc?\n",
    "\n",
    "# - compiler: code is translated once, turned into machine code,\n",
    "#   and then executed multiple times\n",
    "\n",
    "# - interpreter: translates the source code into machine code\n",
    "#   line by line, each time the program is run\n",
    "\n",
    "# - byte compiled: hybrid! source code is compiled once\n",
    "#   into \"byte codes\" -- a high-level language that can be\n",
    "#   interpeted easily/quickly\n",
    "\n",
    "#   Java, .NET (C#), Python\n",
    "\n",
    "import mymod"
   ]
  },
  {
   "cell_type": "code",
   "execution_count": 2,
   "metadata": {},
   "outputs": [
    {
     "data": {
      "text/plain": [
       "<module 'mymod' from '/Users/reuven/Consulting/Courses/Online/ace-python-interviews/mymod.py'>"
      ]
     },
     "execution_count": 2,
     "metadata": {},
     "output_type": "execute_result"
    }
   ],
   "source": [
    "mymod"
   ]
  },
  {
   "cell_type": "code",
   "execution_count": 3,
   "metadata": {},
   "outputs": [],
   "source": [
    "!pypy3 -m mymod"
   ]
  },
  {
   "cell_type": "code",
   "execution_count": 4,
   "metadata": {},
   "outputs": [],
   "source": [
    "# Python tries to be smart about importing modules\n",
    "\n",
    "# if there is a .py but NO .pyc, Python creates the .pyc\n",
    "#   and then loads the .pyc\n",
    "\n",
    "# if there is a .pyc but no .py, Python loads the .pyc\n",
    "\n",
    "# if there is a .py AND a .pyc, and the .pyc is NEWER,\n",
    "#   then it (the .pyc is loaded)\n",
    "\n",
    "# if there is a .py AND a .pyc, and the .py is newer,\n",
    "#   then Python removes the .pyc and re-compiles the module,\n",
    "#   creating a NEW .pyc, which is then loaded\n",
    "\n"
   ]
  },
  {
   "cell_type": "code",
   "execution_count": 5,
   "metadata": {},
   "outputs": [
    {
     "data": {
      "text/plain": [
       "<module 'mymod' from '/Users/reuven/Consulting/Courses/Online/ace-python-interviews/mymod.py'>"
      ]
     },
     "execution_count": 5,
     "metadata": {},
     "output_type": "execute_result"
    }
   ],
   "source": [
    "import importlib\n",
    "importlib.reload(mymod)"
   ]
  },
  {
   "cell_type": "code",
   "execution_count": 6,
   "metadata": {},
   "outputs": [
    {
     "data": {
      "text/plain": [
       "<module 'mymod' from '/Users/reuven/Consulting/Courses/Online/ace-python-interviews/mymod.py'>"
      ]
     },
     "execution_count": 6,
     "metadata": {},
     "output_type": "execute_result"
    }
   ],
   "source": [
    "mymod"
   ]
  },
  {
   "cell_type": "code",
   "execution_count": 7,
   "metadata": {},
   "outputs": [
    {
     "data": {
      "text/plain": [
       "'/Users/reuven/Consulting/Courses/Online/ace-python-interviews/mymod.py'"
      ]
     },
     "execution_count": 7,
     "metadata": {},
     "output_type": "execute_result"
    }
   ],
   "source": [
    "mymod.__file__"
   ]
  },
  {
   "cell_type": "code",
   "execution_count": null,
   "metadata": {},
   "outputs": [],
   "source": []
  }
 ],
 "metadata": {
  "kernelspec": {
   "display_name": "Python 3",
   "language": "python",
   "name": "python3"
  },
  "language_info": {
   "codemirror_mode": {
    "name": "ipython",
    "version": 3
   },
   "file_extension": ".py",
   "mimetype": "text/x-python",
   "name": "python",
   "nbconvert_exporter": "python",
   "pygments_lexer": "ipython3",
   "version": "3.7.5"
  }
 },
 "nbformat": 4,
 "nbformat_minor": 2
}
