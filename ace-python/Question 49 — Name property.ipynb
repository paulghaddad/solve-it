{
 "cells": [
  {
   "cell_type": "code",
   "execution_count": 4,
   "metadata": {},
   "outputs": [
    {
     "name": "stdout",
     "output_type": "stream",
     "text": [
      "Reuven\n",
      "Lerner\n",
      "\t\tNow executing full_name setter\n",
      "something\n",
      "else\n",
      "\t\tNow executing full_name method\n",
      "something else\n"
     ]
    }
   ],
   "source": [
    "class Person():\n",
    "    def __init__(self, s):\n",
    "        self._full_name = s\n",
    "        self.first_name, self.last_name = s.split()\n",
    "        \n",
    "    @property   # defining the getter for full_name\n",
    "    def full_name(self):\n",
    "        print(\"\\t\\tNow executing full_name method\")\n",
    "        return self._full_name\n",
    "    \n",
    "    @full_name.setter\n",
    "    def full_name(self, new_name):\n",
    "        print(\"\\t\\tNow executing full_name setter\")\n",
    "        self._full_name = new_name\n",
    "        self.first_name, self.last_name = new_name.split()\n",
    "        \n",
    "\n",
    "    \n",
    "\n",
    "p = Person('Reuven Lerner')\n",
    "print(p.first_name)  # Reuven\n",
    "print(p.last_name)  # Lerner\n",
    "\n",
    "p.full_name = 'something else'\n",
    "print(p.first_name)  # something\n",
    "print(p.last_name)   # else\n",
    "print(p.full_name)   # something else"
   ]
  },
  {
   "cell_type": "code",
   "execution_count": null,
   "metadata": {},
   "outputs": [],
   "source": []
  }
 ],
 "metadata": {
  "kernelspec": {
   "display_name": "Python 3",
   "language": "python",
   "name": "python3"
  },
  "language_info": {
   "codemirror_mode": {
    "name": "ipython",
    "version": 3
   },
   "file_extension": ".py",
   "mimetype": "text/x-python",
   "name": "python",
   "nbconvert_exporter": "python",
   "pygments_lexer": "ipython3",
   "version": "3.7.5"
  }
 },
 "nbformat": 4,
 "nbformat_minor": 2
}
